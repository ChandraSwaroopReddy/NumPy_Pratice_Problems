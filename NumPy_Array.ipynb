{
 "cells": [
  {
   "cell_type": "code",
   "execution_count": 1,
   "id": "07518124-7ad3-49de-a70d-fef07f598488",
   "metadata": {},
   "outputs": [],
   "source": [
    "import numpy as np"
   ]
  },
  {
   "cell_type": "code",
   "execution_count": 4,
   "id": "7d1fc153-f2f0-4b7d-b35a-c4c5d7326b51",
   "metadata": {},
   "outputs": [
    {
     "data": {
      "text/plain": [
       "array([[ 538976288, 1835891059],\n",
       "       [1769108581, 1752637539],\n",
       "       [1612738149, 1763729507]])"
      ]
     },
     "execution_count": 4,
     "metadata": {},
     "output_type": "execute_result"
    }
   ],
   "source": [
    "#1 Empty Array\n",
    "np.empty((3,2), dtype=int)"
   ]
  },
  {
   "cell_type": "code",
   "execution_count": 12,
   "id": "a9c26693-941d-4218-aace-548752df8c36",
   "metadata": {},
   "outputs": [
    {
     "data": {
      "text/plain": [
       "array([[7, 7],\n",
       "       [7, 7],\n",
       "       [7, 7]])"
      ]
     },
     "execution_count": 12,
     "metadata": {},
     "output_type": "execute_result"
    }
   ],
   "source": [
    "#1 Full Array\n",
    "np.full((3,2), 7, dtype=int)"
   ]
  },
  {
   "cell_type": "code",
   "execution_count": 8,
   "id": "156dd8d6-b6ed-4a8e-aa20-29adab5c9f29",
   "metadata": {},
   "outputs": [
    {
     "data": {
      "text/plain": [
       "array([[0, 0, 0, 0],\n",
       "       [0, 0, 0, 0],\n",
       "       [0, 0, 0, 0],\n",
       "       [0, 0, 0, 0],\n",
       "       [0, 0, 0, 0],\n",
       "       [0, 0, 0, 0],\n",
       "       [0, 0, 0, 0],\n",
       "       [0, 0, 0, 0],\n",
       "       [0, 0, 0, 0]])"
      ]
     },
     "execution_count": 8,
     "metadata": {},
     "output_type": "execute_result"
    }
   ],
   "source": [
    "#2 Array filled with zeros\n",
    "np.zeros((9,4), dtype=int)"
   ]
  },
  {
   "cell_type": "code",
   "execution_count": 11,
   "id": "1cba9781-50fa-4d5a-ae37-b4bc2f442702",
   "metadata": {},
   "outputs": [
    {
     "data": {
      "text/plain": [
       "array([[1, 1, 1, 1, 1, 1, 1, 1, 1],\n",
       "       [1, 1, 1, 1, 1, 1, 1, 1, 1],\n",
       "       [1, 1, 1, 1, 1, 1, 1, 1, 1],\n",
       "       [1, 1, 1, 1, 1, 1, 1, 1, 1]])"
      ]
     },
     "execution_count": 11,
     "metadata": {},
     "output_type": "execute_result"
    }
   ],
   "source": [
    "#3 Array filled with ones\n",
    "np.ones((4,9), dtype=int)"
   ]
  },
  {
   "cell_type": "code",
   "execution_count": 35,
   "id": "3954cd0a-b329-40e0-906f-f35d0db96e18",
   "metadata": {},
   "outputs": [
    {
     "data": {
      "text/plain": [
       "array([3, 3, 4, 6, 5, 1, 7, 5])"
      ]
     },
     "execution_count": 35,
     "metadata": {},
     "output_type": "execute_result"
    }
   ],
   "source": [
    "#4 Array contains a specific row\n",
    "a = np.random.randint(1,10, size=[4,8])\n",
    "b = a[3,:]\n",
    "b"
   ]
  },
  {
   "cell_type": "code",
   "execution_count": 67,
   "id": "bed4abee-148b-4be4-b240-de24103232d3",
   "metadata": {},
   "outputs": [
    {
     "data": {
      "text/plain": [
       "array([2., 3., 4., 5., 6., 7., 8., 9., 1., 0.])"
      ]
     },
     "execution_count": 67,
     "metadata": {},
     "output_type": "execute_result"
    }
   ],
   "source": [
    "#5 Remove rows containing non-numeric values\n",
    "a = np.array([[2,3,4,5], [6,7,8,9], [1,np.nan,np.nan,0]]) \n",
    "b = a[~np.isnan(a).any(axis=1)]\n",
    "b"
   ]
  },
  {
   "cell_type": "code",
   "execution_count": 44,
   "id": "8880f5cd-bdde-4146-867e-90c1bc33c02c",
   "metadata": {},
   "outputs": [
    {
     "data": {
      "text/plain": [
       "(2, 4)"
      ]
     },
     "execution_count": 44,
     "metadata": {},
     "output_type": "execute_result"
    }
   ],
   "source": [
    "#6 Remove single dimensional entries from an matrix\n",
    "a = np.array([[[2,3,4,5], [6,7,8,9]]])\n",
    "a.shape\n",
    "b = np.squeeze(a)\n",
    "b.shape"
   ]
  },
  {
   "cell_type": "code",
   "execution_count": 54,
   "id": "e8ed4944-852d-4951-aa45-ab0205997e7d",
   "metadata": {},
   "outputs": [
    {
     "data": {
      "text/plain": [
       "5"
      ]
     },
     "execution_count": 69,
     "metadata": {},
     "output_type": "execute_result"
    }
   ],
   "source": [
    "#7 No  of occurrences of a sequence\n",
    "a = np.array([[1,2,3,4],[5,6,3,4],[7,8,3,4],[9,0,3,4]])\n",
    "b = repr(a).count(\"3, 4\")\n",
    "b"
   ]
  },
  {
   "cell_type": "code",
   "execution_count": 56,
   "id": "8011cc11-c30d-4afb-8c00-90c85f44e787",
   "metadata": {},
   "outputs": [
    {
     "data": {
      "text/plain": [
       "1"
      ]
     },
     "execution_count": 71,
     "metadata": {},
     "output_type": "execute_result"
    }
   ],
   "source": [
    "#8 Most frequent value\n",
    "a = np.array([1,2,1,3,1,4,1,5])\n",
    "b = np.bincount(a).argmax()\n",
    "b"
   ]
  },
  {
   "cell_type": "code",
   "execution_count": 66,
   "id": "0cef5332-1655-42a9-bbdb-db0196272eb2",
   "metadata": {},
   "outputs": [
    {
     "name": "stdout",
     "output_type": "stream",
     "text": [
      "0 : 0\n",
      "1 : 1\n",
      "2 : 2\n",
      "3 : 3\n",
      "4 : 4\n",
      "5 : 5\n",
      "6 : 6\n",
      "7 : 7\n",
      "8 : 8\n",
      "0 : 9\n",
      "1 : 10\n",
      "2 : 11\n",
      "3 : 12\n",
      "4 : 13\n",
      "5 : 14\n",
      "6 : 15\n",
      "7 : 16\n",
      "8 : 17\n",
      "0 : 18\n",
      "1 : 19\n",
      "2 : 20\n",
      "3 : 21\n",
      "4 : 22\n",
      "5 : 23\n",
      "6 : 24\n",
      "7 : 25\n",
      "8 : 26\n",
      "0 : 27\n",
      "1 : 28\n",
      "2 : 29\n",
      "3 : 30\n",
      "4 : 31\n",
      "5 : 32\n",
      "6 : 33\n",
      "7 : 34\n",
      "8 : 35\n"
     ]
    }
   ],
   "source": [
    "#9 Combining a 1d and 2d array\n",
    "a = np.arange(9)\n",
    "b = np.arange(36).reshape(4,9)\n",
    "for a,b in np.nditer([a, b]):\n",
    "    print(a,\":\",b)"
   ]
  },
  {
   "cell_type": "code",
   "execution_count": 75,
   "id": "34612bf5-57c8-4f4a-b99b-57e2eadc474e",
   "metadata": {},
   "outputs": [
    {
     "data": {
      "text/plain": [
       "array([[1, 4],\n",
       "       [1, 6],\n",
       "       [2, 4],\n",
       "       [2, 6]])"
      ]
     },
     "execution_count": 75,
     "metadata": {},
     "output_type": "execute_result"
    }
   ],
   "source": [
    "#10 All combinations of two arrays\n",
    "arr1 = np.array([1,2])\n",
    "arr2 = np.array([4,6])\n",
    "comb = np.array(np.meshgrid(arr1, arr2)).T.reshape(-1,2)\n",
    "comb"
   ]
  },
  {
   "cell_type": "code",
   "execution_count": 83,
   "id": "28cfd7f5-adc4-4bcc-a429-ef4f25ac4448",
   "metadata": {},
   "outputs": [
    {
     "name": "stdout",
     "output_type": "stream",
     "text": [
      "[[0. 0. 0. 0. 0. 0. 0.]\n",
      " [0. 1. 1. 1. 1. 1. 0.]\n",
      " [0. 1. 1. 1. 1. 1. 0.]\n",
      " [0. 1. 1. 1. 1. 1. 0.]\n",
      " [0. 0. 0. 0. 0. 0. 0.]]\n",
      "[[0. 0. 0. 0.]\n",
      " [0. 1. 1. 0.]\n",
      " [0. 1. 1. 0.]\n",
      " [0. 0. 0. 0.]]\n"
     ]
    }
   ],
   "source": [
    "#11 Border around an array\n",
    "a = np.zeros((5,7))\n",
    "a[1:4, 1:6] = 1\n",
    "print (a)\n",
    "b = np.ones((2,2))\n",
    "b = np.pad(b, pad_width=1, mode='constant', constant_values=0)\n",
    "print(b)"
   ]
  },
  {
   "cell_type": "code",
   "execution_count": 90,
   "id": "5c3ace99-234d-48e5-85dd-1492c98a448e",
   "metadata": {},
   "outputs": [
    {
     "name": "stdout",
     "output_type": "stream",
     "text": [
      "[[False False]\n",
      " [False False]]\n",
      "[[ True  True]\n",
      " [ True  True]]\n",
      "False\n"
     ]
    }
   ],
   "source": [
    "#12 Compare two arrays\n",
    "arr1 = np.array([[1,2],[3,4]])\n",
    "arr2 = np.array([[5,6],[7,8]])\n",
    "arrg = np.greater(arr1, arr2)\n",
    "print(arrg)\n",
    "arrl = np.less(arr1, arr2)\n",
    "print(arrl)\n",
    "arre = np.array_equal(arr1, arr2)\n",
    "print(arre)"
   ]
  },
  {
   "cell_type": "code",
   "execution_count": 91,
   "id": "5412ece2-2e0b-4e07-a35f-b5f75988d25b",
   "metadata": {},
   "outputs": [
    {
     "data": {
      "text/plain": [
       "True"
      ]
     },
     "execution_count": 91,
     "metadata": {},
     "output_type": "execute_result"
    }
   ],
   "source": [
    "#13 Check for specific values in an array\n",
    "arr1 = np.array([[1,2],[3,4]])\n",
    "3 in arr1"
   ]
  },
  {
   "cell_type": "code",
   "execution_count": null,
   "id": "207b5f5c-f146-4316-8f07-f9acd03d0dc1",
   "metadata": {},
   "outputs": [],
   "source": [
    "#14 2d diagonals of 3d array\n"
   ]
  },
  {
   "cell_type": "code",
   "execution_count": 93,
   "id": "d724c5f2-ecff-42e6-9e15-25460d3dd8d2",
   "metadata": {},
   "outputs": [
    {
     "data": {
      "text/plain": [
       "array([ 0,  1,  2,  3,  4,  5,  6,  7,  8,  9, 10, 11, 12, 13, 14, 15])"
      ]
     },
     "execution_count": 93,
     "metadata": {},
     "output_type": "execute_result"
    }
   ],
   "source": [
    "#15,16 Flatten a matrix\n",
    "arr = np.arange(16).reshape(2,4,2)\n",
    "arrf = arr.flatten()\n",
    "arrf"
   ]
  },
  {
   "cell_type": "code",
   "execution_count": 104,
   "id": "b3715eda-7fe4-4ad5-a3bb-f7801ebdcdc7",
   "metadata": {},
   "outputs": [
    {
     "name": "stdout",
     "output_type": "stream",
     "text": [
      "[ 0  1  2  3  4  5  6  7  8  9 10 11 12 13 14 15]\n",
      "[ 0  1  2  3  4  5  6  7  8  9 10 11 12 13 14 15]\n"
     ]
    }
   ],
   "source": [
    "*#17 Move axes of an array to new position\n",
    "arr = np.arange(16)\n",
    "print(arr)\n",
    "arrp = np.moveaxis(arr, 0, -1)\n",
    "print(arrp)"
   ]
  },
  {
   "cell_type": "code",
   "execution_count": 112,
   "id": "a2b16590-e44f-4336-9c74-75bd81af7bcd",
   "metadata": {},
   "outputs": [
    {
     "name": "stdout",
     "output_type": "stream",
     "text": [
      "[[ 0  1  2  3]\n",
      " [ 4  5  6  7]\n",
      " [ 8  9 10 11]\n",
      " [12 13 14 15]]\n",
      "[[ 0  4  8 12]\n",
      " [ 1  5  9 13]\n",
      " [ 2  6 10 14]\n",
      " [ 3  7 11 15]]\n",
      "[[[ 0  1]\n",
      "  [ 2  3]\n",
      "  [ 4  5]\n",
      "  [ 6  7]]\n",
      "\n",
      " [[ 8  9]\n",
      "  [10 11]\n",
      "  [12 13]\n",
      "  [14 15]]]\n",
      "[[[ 0  2  4  6]\n",
      "  [ 1  3  5  7]]\n",
      "\n",
      " [[ 8 10 12 14]\n",
      "  [ 9 11 13 15]]]\n"
     ]
    }
   ],
   "source": [
    "#18 Interchange two axes\n",
    "arr1 = np.arange(16).reshape(4,4)\n",
    "print(arr1)\n",
    "arrs1 = np.swapaxes(arr1, 0, 1)\n",
    "print(arrs1)\n",
    "arr2 = np.arange(16).reshape(2,4,2)\n",
    "print(arr2)\n",
    "arrs2 = np.swapaxes(arr2, 1, 2)\n",
    "print(arrs2)"
   ]
  },
  {
   "cell_type": "code",
   "execution_count": null,
   "id": "51f91412-7bbf-4ee0-8cff-3331d0d4c518",
   "metadata": {},
   "outputs": [],
   "source": [
    "#19 Fibonacci Series\n"
   ]
  },
  {
   "cell_type": "code",
   "execution_count": 116,
   "id": "3fd7c656-008b-40c0-8dc6-9ec087ae37aa",
   "metadata": {},
   "outputs": [
    {
     "data": {
      "text/plain": [
       "15"
      ]
     },
     "execution_count": 116,
     "metadata": {},
     "output_type": "execute_result"
    }
   ],
   "source": [
    "#20 Count no of non-zero values\n",
    "arr = np.arange(16).reshape(4,4)\n",
    "value = np.count_nonzero(arr)\n",
    "value"
   ]
  },
  {
   "cell_type": "code",
   "execution_count": 124,
   "id": "3a3ae4dd-fe76-49f3-8fcb-e061d230ff53",
   "metadata": {},
   "outputs": [
    {
     "data": {
      "text/plain": [
       "4"
      ]
     },
     "execution_count": 124,
     "metadata": {},
     "output_type": "execute_result"
    }
   ],
   "source": [
    "#21 No of elements for a given axis\n",
    "arr = np.arange(8).reshape(1,4,2)\n",
    "value = np.size(arr, 1)\n",
    "value"
   ]
  },
  {
   "cell_type": "code",
   "execution_count": 127,
   "id": "247d6a52-511f-4c6e-bbe6-d11ff2fdbbe0",
   "metadata": {},
   "outputs": [
    {
     "data": {
      "text/plain": [
       "array([0, 0, 0, 1, 2, 3])"
      ]
     },
     "execution_count": 127,
     "metadata": {},
     "output_type": "execute_result"
    }
   ],
   "source": [
    "#22 Trim the leading/trailing zeros\n",
    "arr = np.array([0,0,0,1,2,3,0,0,0])\n",
    "value = np.trim_zeros(arr, 'b')\n",
    "value"
   ]
  },
  {
   "cell_type": "code",
   "execution_count": 134,
   "id": "c2efa822-f0ea-465e-ab2f-5efe8a409416",
   "metadata": {},
   "outputs": [
    {
     "data": {
      "text/plain": [
       "dtype('float64')"
      ]
     },
     "execution_count": 134,
     "metadata": {},
     "output_type": "execute_result"
    }
   ],
   "source": [
    "#23 Change datatype\n",
    "arr = np.arange(16).reshape(4,4)\n",
    "arr = arr.astype('float64')\n",
    "arr.dtype"
   ]
  },
  {
   "cell_type": "code",
   "execution_count": 140,
   "id": "acaced2c-9298-4b69-9dc9-3fa54417e123",
   "metadata": {},
   "outputs": [
    {
     "data": {
      "text/plain": [
       "array([7, 6, 5, 4, 3, 2, 1, 0])"
      ]
     },
     "execution_count": 140,
     "metadata": {},
     "output_type": "execute_result"
    }
   ],
   "source": [
    "#24 Reverse an array\n",
    "arr = np.arange(8)\n",
    "value = np.flip(arr)\n",
    "value"
   ]
  },
  {
   "cell_type": "code",
   "execution_count": 141,
   "id": "f6b4556e-9fe6-414b-8248-b6b23fe462a3",
   "metadata": {},
   "outputs": [
    {
     "ename": "ValueError",
     "evalue": "assignment destination is read-only",
     "output_type": "error",
     "traceback": [
      "\u001b[1;31m---------------------------------------------------------------------------\u001b[0m",
      "\u001b[1;31mValueError\u001b[0m                                Traceback (most recent call last)",
      "Cell \u001b[1;32mIn[141], line 4\u001b[0m\n\u001b[0;32m      2\u001b[0m arr \u001b[38;5;241m=\u001b[39m np\u001b[38;5;241m.\u001b[39marange(\u001b[38;5;241m8\u001b[39m)\n\u001b[0;32m      3\u001b[0m arr\u001b[38;5;241m.\u001b[39msetflags(write\u001b[38;5;241m=\u001b[39m\u001b[38;5;28;01mFalse\u001b[39;00m)\n\u001b[1;32m----> 4\u001b[0m \u001b[43marr\u001b[49m\u001b[43m[\u001b[49m\u001b[38;5;241;43m6\u001b[39;49m\u001b[43m]\u001b[49m\u001b[38;5;241m=\u001b[39m\u001b[38;5;241m0\u001b[39m\n",
      "\u001b[1;31mValueError\u001b[0m: assignment destination is read-only"
     ]
    }
   ],
   "source": [
    "#25 Read-Only Array\n",
    "arr = np.arange(8)\n",
    "arr.setflags(write=False)\n",
    "arr[6]=0"
   ]
  }
 ],
 "metadata": {
  "kernelspec": {
   "display_name": "Python 3 (ipykernel)",
   "language": "python",
   "name": "python3"
  },
  "language_info": {
   "codemirror_mode": {
    "name": "ipython",
    "version": 3
   },
   "file_extension": ".py",
   "mimetype": "text/x-python",
   "name": "python",
   "nbconvert_exporter": "python",
   "pygments_lexer": "ipython3",
   "version": "3.10.8"
  }
 },
 "nbformat": 4,
 "nbformat_minor": 5
}
