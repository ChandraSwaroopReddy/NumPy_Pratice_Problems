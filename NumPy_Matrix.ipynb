{
 "cells": [
  {
   "cell_type": "code",
   "execution_count": 1,
   "id": "b1ef20c4-a73b-4941-be5b-5dc4a6c72e7d",
   "metadata": {},
   "outputs": [],
   "source": [
    "import numpy as np"
   ]
  },
  {
   "cell_type": "code",
   "execution_count": 5,
   "id": "3c0637b6-047b-4060-a335-551d2c9a1ddb",
   "metadata": {},
   "outputs": [
    {
     "data": {
      "text/plain": [
       "9"
      ]
     },
     "execution_count": 5,
     "metadata": {},
     "output_type": "execute_result"
    }
   ],
   "source": [
    "#1 Maximum value in the matrix\n",
    "mtx = np.matrix('[1,2,3;4,5,6;7,8,9]')\n",
    "mtx.max()"
   ]
  },
  {
   "cell_type": "code",
   "execution_count": 7,
   "id": "bef0bb96-1920-49c4-822a-7d90789c801b",
   "metadata": {},
   "outputs": [
    {
     "data": {
      "text/plain": [
       "1"
      ]
     },
     "execution_count": 7,
     "metadata": {},
     "output_type": "execute_result"
    }
   ],
   "source": [
    "#2 Minimum value in the matrix\n",
    "mtx = np.matrix([[1,2,3],[4,5,6],[7,8,9]])\n",
    "mtx.min()"
   ]
  },
  {
   "cell_type": "code",
   "execution_count": 10,
   "id": "815793b9-048b-484a-86a5-61dcddf97e2a",
   "metadata": {},
   "outputs": [
    {
     "data": {
      "text/plain": [
       "(3, 3)"
      ]
     },
     "execution_count": 10,
     "metadata": {},
     "output_type": "execute_result"
    }
   ],
   "source": [
    "#3 No of rows and columns in the matrix\n",
    "mtx = np.matrix([[1,2,3],[4,5,6],[7,8,9]])\n",
    "mtx.shape"
   ]
  },
  {
   "cell_type": "code",
   "execution_count": 21,
   "id": "e0339cfc-ca6c-40db-8555-6b8b78a3d743",
   "metadata": {},
   "outputs": [
    {
     "data": {
      "text/plain": [
       "4"
      ]
     },
     "execution_count": 21,
     "metadata": {},
     "output_type": "execute_result"
    }
   ],
   "source": [
    "#4 Select the elements from a given matrix\n",
    "mtx = np.array([[1,2,3],[4,5,6],[7,8,9]])\n",
    "mtx.take(3)"
   ]
  },
  {
   "cell_type": "code",
   "execution_count": 12,
   "id": "d6fe72a1-af21-41ca-a240-a6d8ca8d38b0",
   "metadata": {},
   "outputs": [
    {
     "data": {
      "text/plain": [
       "45"
      ]
     },
     "execution_count": 12,
     "metadata": {},
     "output_type": "execute_result"
    }
   ],
   "source": [
    "#5 Sum of values in the matrix\n",
    "mtx = np.matrix([[1,2,3],[4,5,6],[7,8,9]])\n",
    "mtx.sum()"
   ]
  },
  {
   "cell_type": "code",
   "execution_count": 15,
   "id": "71972972-d44a-41ad-b607-87af8c7851f1",
   "metadata": {},
   "outputs": [
    {
     "data": {
      "text/plain": [
       "15"
      ]
     },
     "execution_count": 15,
     "metadata": {},
     "output_type": "execute_result"
    }
   ],
   "source": [
    "#6 Sum of diagonal elements\n",
    "mtx = np.matrix([[1,2,3],[4,5,6],[7,8,9]])\n",
    "value = np.diagonal(mtx)\n",
    "value.sum()"
   ]
  },
  {
   "cell_type": "code",
   "execution_count": 26,
   "id": "458e1781-210a-49fb-bce8-27df7b6c9b7e",
   "metadata": {},
   "outputs": [
    {
     "name": "stdout",
     "output_type": "stream",
     "text": [
      "[[10 10 10]\n",
      " [10 10 10]\n",
      " [10 10 10]]\n",
      "[[-8 -6 -4]\n",
      " [-2  0  2]\n",
      " [ 4  6  8]]\n"
     ]
    }
   ],
   "source": [
    "#7 Add/Sub in matrix\n",
    "mtx1 = np.matrix([[1,2,3],[4,5,6],[7,8,9]])\n",
    "mtx2 = np.matrix([[9,8,7],[6,5,4],[3,2,1]])\n",
    "addmtx = np.add(mtx1, mtx2)\n",
    "submtx = np.subtract(mtx1, mtx2)\n",
    "print(addmtx)\n",
    "print(submtx)"
   ]
  },
  {
   "cell_type": "code",
   "execution_count": 41,
   "id": "5cfb3029-3fc6-48a9-8354-34776216e88e",
   "metadata": {},
   "outputs": [
    {
     "name": "stdout",
     "output_type": "stream",
     "text": [
      "[[1 2 3 4]\n",
      " [4 5 6 7]\n",
      " [7 8 9 0]]\n",
      "[[1 2 3]\n",
      " [4 5 6]\n",
      " [7 8 9]\n",
      " [4 7 0]]\n"
     ]
    }
   ],
   "source": [
    "#8 Add rows/columns to the matrix\n",
    "mtx1 = np.array([[1,2,3],[4,5,6],[7,8,9]])\n",
    "mtx2 = np.array([[4],[7],[0]])\n",
    "mtx3 = np.array([4,7,0])\n",
    "arr1 = np.hstack([mtx1, mtx2])\n",
    "print(arr1)\n",
    "arr2 = np.vstack([mtx1, mtx3])\n",
    "print(arr2)"
   ]
  },
  {
   "cell_type": "code",
   "execution_count": 53,
   "id": "cc51a894-15ee-46a3-a251-cb97cd1f2afb",
   "metadata": {},
   "outputs": [
    {
     "data": {
      "text/plain": [
       "matrix([[26],\n",
       "        [59],\n",
       "        [92]])"
      ]
     },
     "execution_count": 53,
     "metadata": {},
     "output_type": "execute_result"
    }
   ],
   "source": [
    "#9 Matrix Multiplication \n",
    "mtx1 = np.matrix([[1,2,3],[4,5,6],[7,8,9]])\n",
    "mtx2 = np.matrix([[0],[7],[4]])\n",
    "value = np.matmul(mtx1, mtx2)\n",
    "value"
   ]
  },
  {
   "cell_type": "code",
   "execution_count": 58,
   "id": "7002502c-c1bd-4692-a465-4fe71148acf1",
   "metadata": {},
   "outputs": [
    {
     "data": {
      "text/plain": [
       "array([ 1.61168440e+01, -1.11684397e+00, -1.30367773e-15])"
      ]
     },
     "execution_count": 58,
     "metadata": {},
     "output_type": "execute_result"
    }
   ],
   "source": [
    "#10 Eigen Value\n",
    "mtx = np.matrix([[1,2,3],[4,5,6],[7,8,9]])\n",
    "value = np.linalg.eigvals(mtx)\n",
    "value"
   ]
  },
  {
   "cell_type": "code",
   "execution_count": 59,
   "id": "6682250c-a6b1-4629-91f9-dd0ecd0733bc",
   "metadata": {},
   "outputs": [
    {
     "data": {
      "text/plain": [
       "0.0"
      ]
     },
     "execution_count": 59,
     "metadata": {},
     "output_type": "execute_result"
    }
   ],
   "source": [
    "#11 Determinant of matrix\n",
    "mtx = np.matrix([[1,2,3],[4,5,6],[7,8,9]])\n",
    "value = np.linalg.det(mtx)\n",
    "value"
   ]
  },
  {
   "cell_type": "code",
   "execution_count": 62,
   "id": "bce11ae1-1fed-4a9c-871f-65bac3ef86f2",
   "metadata": {},
   "outputs": [
    {
     "ename": "LinAlgError",
     "evalue": "Singular matrix",
     "output_type": "error",
     "traceback": [
      "\u001b[1;31m---------------------------------------------------------------------------\u001b[0m",
      "\u001b[1;31mLinAlgError\u001b[0m                               Traceback (most recent call last)",
      "Cell \u001b[1;32mIn[62], line 3\u001b[0m\n\u001b[0;32m      1\u001b[0m \u001b[38;5;66;03m#12 Inverse a matrix\u001b[39;00m\n\u001b[0;32m      2\u001b[0m mtx \u001b[38;5;241m=\u001b[39m np\u001b[38;5;241m.\u001b[39marray([[\u001b[38;5;241m1\u001b[39m,\u001b[38;5;241m2\u001b[39m,\u001b[38;5;241m3\u001b[39m],[\u001b[38;5;241m4\u001b[39m,\u001b[38;5;241m5\u001b[39m,\u001b[38;5;241m6\u001b[39m],[\u001b[38;5;241m7\u001b[39m,\u001b[38;5;241m8\u001b[39m,\u001b[38;5;241m9\u001b[39m]])\n\u001b[1;32m----> 3\u001b[0m \u001b[38;5;28mprint\u001b[39m(\u001b[43mnp\u001b[49m\u001b[38;5;241;43m.\u001b[39;49m\u001b[43mlinalg\u001b[49m\u001b[38;5;241;43m.\u001b[39;49m\u001b[43minv\u001b[49m\u001b[43m(\u001b[49m\u001b[43mmtx\u001b[49m\u001b[43m)\u001b[49m)\n",
      "File \u001b[1;32m<__array_function__ internals>:200\u001b[0m, in \u001b[0;36minv\u001b[1;34m(*args, **kwargs)\u001b[0m\n",
      "File \u001b[1;32mD:\\PYTHON\\lib\\site-packages\\numpy\\linalg\\linalg.py:538\u001b[0m, in \u001b[0;36minv\u001b[1;34m(a)\u001b[0m\n\u001b[0;32m    536\u001b[0m signature \u001b[38;5;241m=\u001b[39m \u001b[38;5;124m'\u001b[39m\u001b[38;5;124mD->D\u001b[39m\u001b[38;5;124m'\u001b[39m \u001b[38;5;28;01mif\u001b[39;00m isComplexType(t) \u001b[38;5;28;01melse\u001b[39;00m \u001b[38;5;124m'\u001b[39m\u001b[38;5;124md->d\u001b[39m\u001b[38;5;124m'\u001b[39m\n\u001b[0;32m    537\u001b[0m extobj \u001b[38;5;241m=\u001b[39m get_linalg_error_extobj(_raise_linalgerror_singular)\n\u001b[1;32m--> 538\u001b[0m ainv \u001b[38;5;241m=\u001b[39m \u001b[43m_umath_linalg\u001b[49m\u001b[38;5;241;43m.\u001b[39;49m\u001b[43minv\u001b[49m\u001b[43m(\u001b[49m\u001b[43ma\u001b[49m\u001b[43m,\u001b[49m\u001b[43m \u001b[49m\u001b[43msignature\u001b[49m\u001b[38;5;241;43m=\u001b[39;49m\u001b[43msignature\u001b[49m\u001b[43m,\u001b[49m\u001b[43m \u001b[49m\u001b[43mextobj\u001b[49m\u001b[38;5;241;43m=\u001b[39;49m\u001b[43mextobj\u001b[49m\u001b[43m)\u001b[49m\n\u001b[0;32m    539\u001b[0m \u001b[38;5;28;01mreturn\u001b[39;00m wrap(ainv\u001b[38;5;241m.\u001b[39mastype(result_t, copy\u001b[38;5;241m=\u001b[39m\u001b[38;5;28;01mFalse\u001b[39;00m))\n",
      "File \u001b[1;32mD:\\PYTHON\\lib\\site-packages\\numpy\\linalg\\linalg.py:89\u001b[0m, in \u001b[0;36m_raise_linalgerror_singular\u001b[1;34m(err, flag)\u001b[0m\n\u001b[0;32m     88\u001b[0m \u001b[38;5;28;01mdef\u001b[39;00m \u001b[38;5;21m_raise_linalgerror_singular\u001b[39m(err, flag):\n\u001b[1;32m---> 89\u001b[0m     \u001b[38;5;28;01mraise\u001b[39;00m LinAlgError(\u001b[38;5;124m\"\u001b[39m\u001b[38;5;124mSingular matrix\u001b[39m\u001b[38;5;124m\"\u001b[39m)\n",
      "\u001b[1;31mLinAlgError\u001b[0m: Singular matrix"
     ]
    }
   ],
   "source": [
    "*#12 Inverse a matrix\n",
    "mtx = np.array([[1,2,3],[4,5,6],[7,8,9]])\n",
    "print(np.linalg.inv(mtx))"
   ]
  },
  {
   "cell_type": "code",
   "execution_count": 74,
   "id": "d8fe223c-db29-40a0-8430-d14f961f523a",
   "metadata": {},
   "outputs": [
    {
     "name": "stdout",
     "output_type": "stream",
     "text": [
      "[1 2 3 4] [3 3 2 1]\n"
     ]
    }
   ],
   "source": [
    "#13 Frequency and Unique values in array\n",
    "mtx = np.array([[1,2,1],[3,2,4],[3,2,1]])\n",
    "uni, fre = np.unique(mtx, return_counts=True)\n",
    "print(uni, fre)"
   ]
  },
  {
   "cell_type": "code",
   "execution_count": 76,
   "id": "b719e6bc-7c6a-4340-8036-43b76837844e",
   "metadata": {},
   "outputs": [
    {
     "data": {
      "text/plain": [
       "(140-200j)"
      ]
     },
     "execution_count": 76,
     "metadata": {},
     "output_type": "execute_result"
    }
   ],
   "source": [
    "#14 Matrix multiply (Complex no)\n",
    "mtx1 = np.array([[1+9j, 2+8j], [3+7j, 4+6j]])\n",
    "mtx2 = np.array([[9+1j, 8+2j], [7+3j, 6+4j]])\n",
    "value = np.vdot(mtx1, mtx2)\n",
    "value"
   ]
  },
  {
   "cell_type": "code",
   "execution_count": 80,
   "id": "40f58779-7c3e-482a-836a-23d36e21c6e7",
   "metadata": {},
   "outputs": [
    {
     "name": "stdout",
     "output_type": "stream",
     "text": [
      "[[ 7  8  9]\n",
      " [14 16 18]\n",
      " [21 24 27]]\n",
      "[[ 9  8  7  6  5  4  3  2  1]\n",
      " [18 16 14 12 10  8  6  4  2]\n",
      " [27 24 21 18 15 12  9  6  3]\n",
      " [36 32 28 24 20 16 12  8  4]\n",
      " [45 40 35 30 25 20 15 10  5]\n",
      " [54 48 42 36 30 24 18 12  6]\n",
      " [63 56 49 42 35 28 21 14  7]\n",
      " [72 64 56 48 40 32 24 16  8]\n",
      " [81 72 63 54 45 36 27 18  9]]\n",
      "50\n",
      "[[ 46  28  10]\n",
      " [118  73  28]\n",
      " [190 118  46]]\n"
     ]
    }
   ],
   "source": [
    "#15, #16 Inner & Outer Product of two matrix\n",
    "mtx1 = np.array([1,2,3])\n",
    "mtx2 = np.array([7,8,9])\n",
    "mtx3 = np.array([[1,2,3],[4,5,6],[7,8,9]])\n",
    "mtx4 = np.array([[9,8,7],[6,5,4],[3,2,1]])\n",
    "value1 = np.outer(mtx1, mtx2)\n",
    "value3 = np.outer(mtx3, mtx4)\n",
    "print(value1)\n",
    "print(value3)\n",
    "value2 = np.inner(mtx1, mtx2)\n",
    "value4 = np.inner(mtx3, mtx4)\n",
    "print(value2)\n",
    "print(value4)"
   ]
  },
  {
   "cell_type": "code",
   "execution_count": 81,
   "id": "188d961a-9351-47d5-b26f-9092b7da1193",
   "metadata": {},
   "outputs": [
    {
     "data": {
      "text/plain": [
       "array([[0.5, 0.5, 0.5, 0.5],\n",
       "       [0.5, 0.5, 0.5, 0.5],\n",
       "       [0.5, 0.5, 0.5, 0.5],\n",
       "       [0.5, 0.5, 0.5, 0.5]])"
      ]
     },
     "execution_count": 81,
     "metadata": {},
     "output_type": "execute_result"
    }
   ],
   "source": [
    "#17 Covariance Matrix\n",
    "mtx1 = np.matrix([[1,2],[3,4]])\n",
    "mtx2 = np.matrix([[5,6],[7,8]])\n",
    "value = np.cov(mtx1, mtx2)\n",
    "value"
   ]
  },
  {
   "cell_type": "code",
   "execution_count": null,
   "id": "e138478c-9fd6-4c51-932f-68dee2aebc8b",
   "metadata": {},
   "outputs": [],
   "source": [
    "#18 Covariance matrix to correlation matrix"
   ]
  },
  {
   "cell_type": "code",
   "execution_count": 67,
   "id": "a1e63f92-5bf9-401a-8120-7028e7734a21",
   "metadata": {},
   "outputs": [
    {
     "data": {
      "text/plain": [
       "matrix([[ 5,  6, 10, 12],\n",
       "        [ 7,  8, 14, 16],\n",
       "        [15, 18, 20, 24],\n",
       "        [21, 24, 28, 32]])"
      ]
     },
     "execution_count": 67,
     "metadata": {},
     "output_type": "execute_result"
    }
   ],
   "source": [
    "#19 Kronecker Product\n",
    "mtx1 = np.matrix([[1,2],[3,4]])\n",
    "mtx2 = np.matrix([[5,6],[7,8]])\n",
    "kpmtx = np.kron(mtx1, mtx2)\n",
    "[[5*1, 6*1, 5*2, 6*2],\n",
    " [7*1, 8*1, 7*2, 8*2],\n",
    " [5*3, 6*3, 5*4, 6*4],\n",
    " [7*3, 8*3, 7*4, 8*4]]\n",
    "kpmtx"
   ]
  },
  {
   "cell_type": "code",
   "execution_count": 65,
   "id": "9c0c6703-b9ec-44ae-8637-f7f2fbc44833",
   "metadata": {},
   "outputs": [
    {
     "data": {
      "text/plain": [
       "[[1, 2, 3], [4, 5, 6], [7, 8, 9]]"
      ]
     },
     "execution_count": 65,
     "metadata": {},
     "output_type": "execute_result"
    }
   ],
   "source": [
    "#20 Matrix to list\n",
    "mtx = np.matrix([[1,2,3],[4,5,6],[7,8,9]])\n",
    "value = mtx.tolist()\n",
    "value"
   ]
  }
 ],
 "metadata": {
  "kernelspec": {
   "display_name": "Python 3 (ipykernel)",
   "language": "python",
   "name": "python3"
  },
  "language_info": {
   "codemirror_mode": {
    "name": "ipython",
    "version": 3
   },
   "file_extension": ".py",
   "mimetype": "text/x-python",
   "name": "python",
   "nbconvert_exporter": "python",
   "pygments_lexer": "ipython3",
   "version": "3.10.8"
  }
 },
 "nbformat": 4,
 "nbformat_minor": 5
}
