{
 "cells": [
  {
   "cell_type": "code",
   "execution_count": 77,
   "id": "8a483aef-a73e-4062-ae41-e7165930b7d4",
   "metadata": {},
   "outputs": [],
   "source": [
    "import numpy as np"
   ]
  },
  {
   "cell_type": "code",
   "execution_count": 3,
   "id": "afb398e2-d03e-4764-ad90-93108f87c0c2",
   "metadata": {},
   "outputs": [
    {
     "data": {
      "text/plain": [
       "array([1, 2, 3, 4, 4, 4])"
      ]
     },
     "execution_count": 3,
     "metadata": {},
     "output_type": "execute_result"
    }
   ],
   "source": [
    "#1 Replace elements that didnt statisfy the condition\n",
    "arr = np.array([1,2,3,7,8,9])\n",
    "arr[arr>5] = 4\n",
    "arr"
   ]
  },
  {
   "cell_type": "code",
   "execution_count": 6,
   "id": "4c9668cf-cd4f-4bdd-ae3f-4ba3fd158586",
   "metadata": {},
   "outputs": [
    {
     "data": {
      "text/plain": [
       "(array([0, 2, 3], dtype=int64),)"
      ]
     },
     "execution_count": 6,
     "metadata": {},
     "output_type": "execute_result"
    }
   ],
   "source": [
    "#2 Return indices of elements that statisfy the condition\n",
    "arr = np.array([55,34,56,87,24,21])\n",
    "np.where(arr>50)"
   ]
  },
  {
   "cell_type": "code",
   "execution_count": 39,
   "id": "dfc114ae-81b0-4c93-8d29-1e227dc72d65",
   "metadata": {},
   "outputs": [
    {
     "data": {
      "text/plain": [
       "array([[1. , 2. , 3. ],\n",
       "       [4. , 4.5, 5. ],\n",
       "       [6. , 7. , 4. ]])"
      ]
     },
     "execution_count": 39,
     "metadata": {},
     "output_type": "execute_result"
    }
   ],
   "source": [
    "#3 Replace NaN values with avg of columns\n",
    "arr = np.array([[1,2,3],[4,np.NaN,5],[6,7,np.NaN]])\n",
    "arr2 = np.nanmean(arr, axis=0)\n",
    "ind = np.where(np.isnan(arr))\n",
    "arr[ind] = np.take(arr2, ind[1])\n",
    "arr"
   ]
  },
  {
   "cell_type": "code",
   "execution_count": 11,
   "id": "179e8d56-41c8-4a74-b4da-c2805d6a135a",
   "metadata": {},
   "outputs": [
    {
     "data": {
      "text/plain": [
       "array([[0, 2, 0],\n",
       "       [4, 0, 6],\n",
       "       [0, 8, 0]])"
      ]
     },
     "execution_count": 11,
     "metadata": {},
     "output_type": "execute_result"
    }
   ],
   "source": [
    "#4 Replace negative values with zero \n",
    "arr = np.array([[-1,2,-3],[4,-5,6],[-7,8,-9]])\n",
    "arr[arr<0]=0\n",
    "arr"
   ]
  },
  {
   "cell_type": "code",
   "execution_count": 87,
   "id": "94d1125c-5d47-4121-80a3-b2ce9bd8931d",
   "metadata": {},
   "outputs": [
    {
     "data": {
      "text/plain": [
       "array([1, 3, 5, 7, 9])"
      ]
     },
     "execution_count": 87,
     "metadata": {},
     "output_type": "execute_result"
    }
   ],
   "source": [
    "#5 Values of certain index positions\n",
    "arr1 = np.array([1,2,5,6,9])\n",
    "arr2 = np.array([3,7,0])\n",
    "arr1.put([1,3], arr2)\n",
    "arr1"
   ]
  },
  {
   "cell_type": "code",
   "execution_count": 25,
   "id": "917248e8-252e-4ef6-b2c9-2ef79d6352a6",
   "metadata": {},
   "outputs": [
    {
     "data": {
      "text/plain": [
       "array([[0, 0],\n",
       "       [0, 2],\n",
       "       [1, 1]], dtype=int64)"
      ]
     },
     "execution_count": 25,
     "metadata": {},
     "output_type": "execute_result"
    }
   ],
   "source": [
    "#6 Find index where element is zero\n",
    "arr = np.array([[0,1,0],[2,0,3]])\n",
    "np.argwhere(arr==0)"
   ]
  },
  {
   "cell_type": "code",
   "execution_count": 57,
   "id": "21711704-1407-43a5-885b-9220941bfb76",
   "metadata": {},
   "outputs": [
    {
     "data": {
      "text/plain": [
       "array([[1.],\n",
       "       [4.],\n",
       "       [6.]])"
      ]
     },
     "execution_count": 57,
     "metadata": {},
     "output_type": "execute_result"
    }
   ],
   "source": [
    "#7 Remove columns that contain non-numeric values\n",
    "arr = np.array([[1,2,3],[4,np.NaN,5],[6,7,np.NaN]])\n",
    "arr[:,~np.isnan(arr).any(axis=0)]"
   ]
  },
  {
   "cell_type": "code",
   "execution_count": 44,
   "id": "54192c4b-ca93-4c60-a367-0c7e12efcf71",
   "metadata": {},
   "outputs": [
    {
     "data": {
      "text/plain": [
       "array([[30, 45, 55],\n",
       "       [70, 85, 10]])"
      ]
     },
     "execution_count": 44,
     "metadata": {},
     "output_type": "execute_result"
    }
   ],
   "source": [
    "#8 Access diff rows\n",
    "arr = np.array([[101,20,3,10],[40,5,66,7],[70,88,9,141]])\n",
    "arr[[1]]\n",
    "arr2 = np.array([[1,20,3,1],[40,5,66,7],[70,88,9,11],[80,100,50,77]])\n",
    "arr2[[1,2,3]]\n",
    "arr3 = np.array([[[10,25,60],[30,45,55],[20,45,7]],[[50,65,8],[70,85,10],[11,22,33]]])\n",
    "arr3[[0,1],[1,1]]\n"
   ]
  },
  {
   "cell_type": "code",
   "execution_count": 62,
   "id": "c410ec5a-cd43-4102-94ea-6b300c012f51",
   "metadata": {},
   "outputs": [
    {
     "data": {
      "text/plain": [
       "(array([1, 3], dtype=int64),)"
      ]
     },
     "execution_count": 62,
     "metadata": {},
     "output_type": "execute_result"
    }
   ],
   "source": [
    "#9 Get row no having element larger than x\n",
    "arr = np.array([[1,2,3,4,5],[10,-3,30,4,5],[3,2,5,-4,5],[9,7,3,6,5]])\n",
    "np.where(np.any(arr>6, axis=1))"
   ]
  },
  {
   "cell_type": "code",
   "execution_count": 85,
   "id": "230467c6-6861-4641-b12c-c0d173d1d8f5",
   "metadata": {},
   "outputs": [
    {
     "data": {
      "text/plain": [
       "array([[0, 2, 3],\n",
       "       [4, 0, 6],\n",
       "       [7, 8, 0]])"
      ]
     },
     "execution_count": 85,
     "metadata": {},
     "output_type": "execute_result"
    }
   ],
   "source": [
    "#10 Fill the diagonals \n",
    "arr = np.array([[1,2,3],[4,5,6],[7,8,9]])\n",
    "np.fill_diagonal(arr, 0)\n",
    "arr"
   ]
  },
  {
   "cell_type": "code",
   "execution_count": 82,
   "id": "a372f19e-bd35-4f32-a998-9c11ed2ebc4c",
   "metadata": {},
   "outputs": [
    {
     "data": {
      "text/plain": [
       "array([[False,  True, False],\n",
       "       [False,  True, False],\n",
       "       [False,  True, False]])"
      ]
     },
     "execution_count": 82,
     "metadata": {},
     "output_type": "execute_result"
    }
   ],
   "source": [
    "#11 Check elements present\n",
    "arr1 = np.array([[1,2,3],[4,5,6],[7,8,9]])\n",
    "arr2 = np.array([2,5,8])\n",
    "np.isin(arr1, arr2)"
   ]
  },
  {
   "cell_type": "code",
   "execution_count": 80,
   "id": "5ced9c89-8494-4381-bd3b-9fd62dbb13e1",
   "metadata": {},
   "outputs": [
    {
     "data": {
      "text/plain": [
       "array([[[1, 2],\n",
       "        [3, 4],\n",
       "        [5, 6]],\n",
       "\n",
       "       [[7, 8],\n",
       "        [9, 0],\n",
       "        [1, 2]]])"
      ]
     },
     "execution_count": 80,
     "metadata": {},
     "output_type": "execute_result"
    }
   ],
   "source": [
    "#12 Combined array index by index\n",
    "arr1 = np.array([[1,3,5],[7,9,1]])\n",
    "arr2 = np.array([[2,4,6],[8,0,2]])\n",
    "np.dstack((arr1, arr2))"
   ]
  }
 ],
 "metadata": {
  "kernelspec": {
   "display_name": "Python 3 (ipykernel)",
   "language": "python",
   "name": "python3"
  },
  "language_info": {
   "codemirror_mode": {
    "name": "ipython",
    "version": 3
   },
   "file_extension": ".py",
   "mimetype": "text/x-python",
   "name": "python",
   "nbconvert_exporter": "python",
   "pygments_lexer": "ipython3",
   "version": "3.10.8"
  }
 },
 "nbformat": 4,
 "nbformat_minor": 5
}
